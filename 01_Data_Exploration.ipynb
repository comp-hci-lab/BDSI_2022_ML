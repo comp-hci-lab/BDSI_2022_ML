{
 "cells": [
  {
   "cell_type": "markdown",
   "id": "ad83e51c",
   "metadata": {},
   "source": [
    "# About"
   ]
  },
  {
   "cell_type": "markdown",
   "id": "fd2b0255",
   "metadata": {},
   "source": [
    "Throughtout this project, you will be working with the Magnetic Resonance Imaging (MRI) data from The Cancer Genome Atlas (TCGA). The data consists of pre-operative multimodal MR imaging sequences (i.e., T1, T1-Gd, T2, T2-FLAIR) along with their whole-tumor segmentation labels composed of edema, enhancing tumor, and non-enhancing tumor. We have combined these labels into a single whole tumor for this project. Each patient is associated with 144 pre-operative MRI scans, which were treated as independent data points for 2D segmentation. These MRI scans were cropped to 144 × 144 pixels and further pre-processed the data by pixel-intensity normalization. In this notebook, we will access the validation dataset and test datasets."
   ]
  },
  {
   "cell_type": "markdown",
   "id": "8001910d",
   "metadata": {},
   "source": [
    "# Learning Objectives"
   ]
  },
  {
   "cell_type": "markdown",
   "id": "4bbe6f58",
   "metadata": {},
   "source": [
    "> In this file, you will learn the following:\n",
    ">    \n",
    "><ol>\n",
    ">  <li>The problem of Brain Tumor (Glioma) Segmentation</li>\n",
    ">  <li>Glioma and Subtypes</li>\n",
    ">  <li>Exploring Patients' MRI and Clinical Data</li>\n",
    ">  <li>Visualizing Examples of MRI Scans and Annotated Tumor Segmentation</li>\n",
    "></ol>"
   ]
  },
  {
   "cell_type": "markdown",
   "id": "1f1d21b9",
   "metadata": {},
   "source": [
    "## Imports"
   ]
  },
  {
   "cell_type": "code",
   "execution_count": 39,
   "id": "68949acb",
   "metadata": {},
   "outputs": [],
   "source": [
    "import pandas as pd\n",
    "from dython.nominal import associations"
   ]
  },
  {
   "cell_type": "markdown",
   "id": "38905e00",
   "metadata": {},
   "source": [
    "## 1. The problem of Brain Tumor (Glioma) Segmentation"
   ]
  },
  {
   "cell_type": "code",
   "execution_count": null,
   "id": "ba94ba0e",
   "metadata": {},
   "outputs": [],
   "source": []
  },
  {
   "cell_type": "markdown",
   "id": "c1e2547d",
   "metadata": {},
   "source": [
    "## 2. Glioma and Subtypes"
   ]
  },
  {
   "cell_type": "code",
   "execution_count": 49,
   "id": "009a301f",
   "metadata": {},
   "outputs": [
    {
     "data": {
      "text/html": [
       "<div>\n",
       "<style scoped>\n",
       "    .dataframe tbody tr th:only-of-type {\n",
       "        vertical-align: middle;\n",
       "    }\n",
       "\n",
       "    .dataframe tbody tr th {\n",
       "        vertical-align: top;\n",
       "    }\n",
       "\n",
       "    .dataframe thead th {\n",
       "        text-align: right;\n",
       "    }\n",
       "</style>\n",
       "<table border=\"1\" class=\"dataframe\">\n",
       "  <thead>\n",
       "    <tr style=\"text-align: right;\">\n",
       "      <th></th>\n",
       "      <th>Tissue source site</th>\n",
       "      <th>Study</th>\n",
       "      <th>Histology</th>\n",
       "      <th>Grade</th>\n",
       "    </tr>\n",
       "  </thead>\n",
       "  <tbody>\n",
       "    <tr>\n",
       "      <th>0</th>\n",
       "      <td>Case Western - St Joes</td>\n",
       "      <td>Brain Lower Grade Glioma</td>\n",
       "      <td>astrocytoma</td>\n",
       "      <td>G3</td>\n",
       "    </tr>\n",
       "    <tr>\n",
       "      <th>1</th>\n",
       "      <td>Thomas Jefferson University</td>\n",
       "      <td>Brain Lower Grade Glioma</td>\n",
       "      <td>astrocytoma</td>\n",
       "      <td>G3</td>\n",
       "    </tr>\n",
       "    <tr>\n",
       "      <th>2</th>\n",
       "      <td>MD Anderson Cancer Center</td>\n",
       "      <td>Glioblastoma multiforme</td>\n",
       "      <td>glioblastoma</td>\n",
       "      <td>G4</td>\n",
       "    </tr>\n",
       "    <tr>\n",
       "      <th>3</th>\n",
       "      <td>Duke</td>\n",
       "      <td>Glioblastoma multiforme</td>\n",
       "      <td>glioblastoma</td>\n",
       "      <td>G4</td>\n",
       "    </tr>\n",
       "    <tr>\n",
       "      <th>4</th>\n",
       "      <td>Henry Ford Hospital</td>\n",
       "      <td>Glioblastoma multiforme</td>\n",
       "      <td>glioblastoma</td>\n",
       "      <td>G4</td>\n",
       "    </tr>\n",
       "    <tr>\n",
       "      <th>...</th>\n",
       "      <td>...</td>\n",
       "      <td>...</td>\n",
       "      <td>...</td>\n",
       "      <td>...</td>\n",
       "    </tr>\n",
       "    <tr>\n",
       "      <th>70</th>\n",
       "      <td>Henry Ford Hospital</td>\n",
       "      <td>Glioblastoma multiforme</td>\n",
       "      <td>glioblastoma</td>\n",
       "      <td>G4</td>\n",
       "    </tr>\n",
       "    <tr>\n",
       "      <th>71</th>\n",
       "      <td>MD Anderson Cancer Center</td>\n",
       "      <td>Glioblastoma multiforme</td>\n",
       "      <td>glioblastoma</td>\n",
       "      <td>G4</td>\n",
       "    </tr>\n",
       "    <tr>\n",
       "      <th>72</th>\n",
       "      <td>Case Western - St Joes</td>\n",
       "      <td>Brain Lower Grade Glioma</td>\n",
       "      <td>oligodendroglioma</td>\n",
       "      <td>G2</td>\n",
       "    </tr>\n",
       "    <tr>\n",
       "      <th>73</th>\n",
       "      <td>Henry Ford Hospital</td>\n",
       "      <td>Glioblastoma multiforme</td>\n",
       "      <td>glioblastoma</td>\n",
       "      <td>G4</td>\n",
       "    </tr>\n",
       "    <tr>\n",
       "      <th>74</th>\n",
       "      <td>Emory University</td>\n",
       "      <td>Glioblastoma multiforme</td>\n",
       "      <td>glioblastoma</td>\n",
       "      <td>G4</td>\n",
       "    </tr>\n",
       "  </tbody>\n",
       "</table>\n",
       "<p>75 rows × 4 columns</p>\n",
       "</div>"
      ],
      "text/plain": [
       "             Tissue source site                     Study          Histology  \\\n",
       "0        Case Western - St Joes  Brain Lower Grade Glioma        astrocytoma   \n",
       "1   Thomas Jefferson University  Brain Lower Grade Glioma        astrocytoma   \n",
       "2     MD Anderson Cancer Center   Glioblastoma multiforme       glioblastoma   \n",
       "3                          Duke   Glioblastoma multiforme       glioblastoma   \n",
       "4           Henry Ford Hospital   Glioblastoma multiforme       glioblastoma   \n",
       "..                          ...                       ...                ...   \n",
       "70          Henry Ford Hospital   Glioblastoma multiforme       glioblastoma   \n",
       "71    MD Anderson Cancer Center   Glioblastoma multiforme       glioblastoma   \n",
       "72       Case Western - St Joes  Brain Lower Grade Glioma  oligodendroglioma   \n",
       "73          Henry Ford Hospital   Glioblastoma multiforme       glioblastoma   \n",
       "74             Emory University   Glioblastoma multiforme       glioblastoma   \n",
       "\n",
       "   Grade  \n",
       "0     G3  \n",
       "1     G3  \n",
       "2     G4  \n",
       "3     G4  \n",
       "4     G4  \n",
       "..   ...  \n",
       "70    G4  \n",
       "71    G4  \n",
       "72    G2  \n",
       "73    G4  \n",
       "74    G4  \n",
       "\n",
       "[75 rows x 4 columns]"
      ]
     },
     "execution_count": 49,
     "metadata": {},
     "output_type": "execute_result"
    }
   ],
   "source": [
    "#[TODO]\n",
    "#Now, we will take a look at the different types of tumor that the dataset contains.\n",
    "#For this, we will only look at the columns: 'Tissue source site', 'Study', 'Histology', 'Grade'\n",
    "df = pd.read_csv('./data/patient_info.csv')\n",
    "df = df[['Tissue source site', 'Study', 'Histology', 'Grade']]\n",
    "df"
   ]
  },
  {
   "cell_type": "code",
   "execution_count": 50,
   "id": "735d3b00",
   "metadata": {},
   "outputs": [
    {
     "data": {
      "text/plain": [
       "array(['glioblastoma'], dtype=object)"
      ]
     },
     "execution_count": 50,
     "metadata": {},
     "output_type": "execute_result"
    }
   ],
   "source": [
    "#[TODO]\n",
    "#What are the subtypes of Lower Grade Glioma? Subtypes of Glioblastoma multiforme?\n",
    "#How are these different subtypes graded?"
   ]
  },
  {
   "cell_type": "code",
   "execution_count": 51,
   "id": "6671f85a",
   "metadata": {},
   "outputs": [
    {
     "data": {
      "text/plain": [
       "array(['glioblastoma'], dtype=object)"
      ]
     },
     "execution_count": 51,
     "metadata": {},
     "output_type": "execute_result"
    }
   ],
   "source": [
    "df.loc[df['Study'] == 'Brain Lower Grade Glioma']['Histology'].unique()\n",
    "df.loc[df['Study'] == 'Glioblastoma multiforme']['Histology'].unique()"
   ]
  },
  {
   "cell_type": "code",
   "execution_count": 52,
   "id": "b48d93fd",
   "metadata": {},
   "outputs": [],
   "source": [
    "#[TODO]\n",
    "#Are there any correlations between Tissue source site, Study, Histology and Grade?"
   ]
  },
  {
   "cell_type": "code",
   "execution_count": null,
   "id": "8c163b78",
   "metadata": {},
   "outputs": [],
   "source": []
  },
  {
   "cell_type": "markdown",
   "id": "84ea64a8",
   "metadata": {},
   "source": [
    "## 3. Exploring Patients' MRI and Clinical Data"
   ]
  },
  {
   "cell_type": "code",
   "execution_count": 15,
   "id": "af570702",
   "metadata": {},
   "outputs": [
    {
     "data": {
      "text/html": [
       "<div>\n",
       "<style scoped>\n",
       "    .dataframe tbody tr th:only-of-type {\n",
       "        vertical-align: middle;\n",
       "    }\n",
       "\n",
       "    .dataframe tbody tr th {\n",
       "        vertical-align: top;\n",
       "    }\n",
       "\n",
       "    .dataframe thead th {\n",
       "        text-align: right;\n",
       "    }\n",
       "</style>\n",
       "<table border=\"1\" class=\"dataframe\">\n",
       "  <thead>\n",
       "    <tr style=\"text-align: right;\">\n",
       "      <th></th>\n",
       "      <th>Case</th>\n",
       "      <th>Tissue source site</th>\n",
       "      <th>Study</th>\n",
       "      <th>Histology</th>\n",
       "      <th>Grade</th>\n",
       "      <th>Age (years at diagnosis)</th>\n",
       "      <th>Gender</th>\n",
       "      <th>Survival (months)</th>\n",
       "      <th>Vital status (1=dead)</th>\n",
       "    </tr>\n",
       "  </thead>\n",
       "  <tbody>\n",
       "    <tr>\n",
       "      <th>0</th>\n",
       "      <td>TCGA-HT-A5RC</td>\n",
       "      <td>Case Western - St Joes</td>\n",
       "      <td>Brain Lower Grade Glioma</td>\n",
       "      <td>astrocytoma</td>\n",
       "      <td>G3</td>\n",
       "      <td>70.0</td>\n",
       "      <td>female</td>\n",
       "      <td>5.322494</td>\n",
       "      <td>1.0</td>\n",
       "    </tr>\n",
       "    <tr>\n",
       "      <th>1</th>\n",
       "      <td>TCGA-CS-4941</td>\n",
       "      <td>Thomas Jefferson University</td>\n",
       "      <td>Brain Lower Grade Glioma</td>\n",
       "      <td>astrocytoma</td>\n",
       "      <td>G3</td>\n",
       "      <td>67.0</td>\n",
       "      <td>male</td>\n",
       "      <td>7.688047</td>\n",
       "      <td>1.0</td>\n",
       "    </tr>\n",
       "    <tr>\n",
       "      <th>2</th>\n",
       "      <td>TCGA-02-0060</td>\n",
       "      <td>MD Anderson Cancer Center</td>\n",
       "      <td>Glioblastoma multiforme</td>\n",
       "      <td>glioblastoma</td>\n",
       "      <td>G4</td>\n",
       "      <td>66.0</td>\n",
       "      <td>female</td>\n",
       "      <td>6.012447</td>\n",
       "      <td>1.0</td>\n",
       "    </tr>\n",
       "    <tr>\n",
       "      <th>3</th>\n",
       "      <td>TCGA-12-1093</td>\n",
       "      <td>Duke</td>\n",
       "      <td>Glioblastoma multiforme</td>\n",
       "      <td>glioblastoma</td>\n",
       "      <td>G4</td>\n",
       "      <td>66.0</td>\n",
       "      <td>female</td>\n",
       "      <td>15.967481</td>\n",
       "      <td>1.0</td>\n",
       "    </tr>\n",
       "    <tr>\n",
       "      <th>4</th>\n",
       "      <td>TCGA-06-0241</td>\n",
       "      <td>Henry Ford Hospital</td>\n",
       "      <td>Glioblastoma multiforme</td>\n",
       "      <td>glioblastoma</td>\n",
       "      <td>G4</td>\n",
       "      <td>65.0</td>\n",
       "      <td>female</td>\n",
       "      <td>14.948980</td>\n",
       "      <td>0.0</td>\n",
       "    </tr>\n",
       "    <tr>\n",
       "      <th>...</th>\n",
       "      <td>...</td>\n",
       "      <td>...</td>\n",
       "      <td>...</td>\n",
       "      <td>...</td>\n",
       "      <td>...</td>\n",
       "      <td>...</td>\n",
       "      <td>...</td>\n",
       "      <td>...</td>\n",
       "      <td>...</td>\n",
       "    </tr>\n",
       "    <tr>\n",
       "      <th>70</th>\n",
       "      <td>TCGA-06-0175</td>\n",
       "      <td>Henry Ford Hospital</td>\n",
       "      <td>Glioblastoma multiforme</td>\n",
       "      <td>glioblastoma</td>\n",
       "      <td>G4</td>\n",
       "      <td>69.0</td>\n",
       "      <td>male</td>\n",
       "      <td>4.041153</td>\n",
       "      <td>1.0</td>\n",
       "    </tr>\n",
       "    <tr>\n",
       "      <th>71</th>\n",
       "      <td>TCGA-02-0003</td>\n",
       "      <td>MD Anderson Cancer Center</td>\n",
       "      <td>Glioblastoma multiforme</td>\n",
       "      <td>glioblastoma</td>\n",
       "      <td>G4</td>\n",
       "      <td>50.0</td>\n",
       "      <td>male</td>\n",
       "      <td>4.731106</td>\n",
       "      <td>1.0</td>\n",
       "    </tr>\n",
       "    <tr>\n",
       "      <th>72</th>\n",
       "      <td>TCGA-HT-8113</td>\n",
       "      <td>Case Western - St Joes</td>\n",
       "      <td>Brain Lower Grade Glioma</td>\n",
       "      <td>oligodendroglioma</td>\n",
       "      <td>G2</td>\n",
       "      <td>49.0</td>\n",
       "      <td>female</td>\n",
       "      <td>29.569410</td>\n",
       "      <td>0.0</td>\n",
       "    </tr>\n",
       "    <tr>\n",
       "      <th>73</th>\n",
       "      <td>TCGA-06-0648</td>\n",
       "      <td>Henry Ford Hospital</td>\n",
       "      <td>Glioblastoma multiforme</td>\n",
       "      <td>glioblastoma</td>\n",
       "      <td>G4</td>\n",
       "      <td>77.0</td>\n",
       "      <td>male</td>\n",
       "      <td>9.790760</td>\n",
       "      <td>1.0</td>\n",
       "    </tr>\n",
       "    <tr>\n",
       "      <th>74</th>\n",
       "      <td>TCGA-14-1829</td>\n",
       "      <td>Emory University</td>\n",
       "      <td>Glioblastoma multiforme</td>\n",
       "      <td>glioblastoma</td>\n",
       "      <td>G4</td>\n",
       "      <td>57.0</td>\n",
       "      <td>male</td>\n",
       "      <td>7.162368</td>\n",
       "      <td>0.0</td>\n",
       "    </tr>\n",
       "  </tbody>\n",
       "</table>\n",
       "<p>75 rows × 9 columns</p>\n",
       "</div>"
      ],
      "text/plain": [
       "            Case           Tissue source site                     Study  \\\n",
       "0   TCGA-HT-A5RC       Case Western - St Joes  Brain Lower Grade Glioma   \n",
       "1   TCGA-CS-4941  Thomas Jefferson University  Brain Lower Grade Glioma   \n",
       "2   TCGA-02-0060    MD Anderson Cancer Center   Glioblastoma multiforme   \n",
       "3   TCGA-12-1093                         Duke   Glioblastoma multiforme   \n",
       "4   TCGA-06-0241          Henry Ford Hospital   Glioblastoma multiforme   \n",
       "..           ...                          ...                       ...   \n",
       "70  TCGA-06-0175          Henry Ford Hospital   Glioblastoma multiforme   \n",
       "71  TCGA-02-0003    MD Anderson Cancer Center   Glioblastoma multiforme   \n",
       "72  TCGA-HT-8113       Case Western - St Joes  Brain Lower Grade Glioma   \n",
       "73  TCGA-06-0648          Henry Ford Hospital   Glioblastoma multiforme   \n",
       "74  TCGA-14-1829             Emory University   Glioblastoma multiforme   \n",
       "\n",
       "            Histology Grade  Age (years at diagnosis)  Gender  \\\n",
       "0         astrocytoma    G3                      70.0  female   \n",
       "1         astrocytoma    G3                      67.0    male   \n",
       "2        glioblastoma    G4                      66.0  female   \n",
       "3        glioblastoma    G4                      66.0  female   \n",
       "4        glioblastoma    G4                      65.0  female   \n",
       "..                ...   ...                       ...     ...   \n",
       "70       glioblastoma    G4                      69.0    male   \n",
       "71       glioblastoma    G4                      50.0    male   \n",
       "72  oligodendroglioma    G2                      49.0  female   \n",
       "73       glioblastoma    G4                      77.0    male   \n",
       "74       glioblastoma    G4                      57.0    male   \n",
       "\n",
       "    Survival (months)  Vital status (1=dead)  \n",
       "0            5.322494                    1.0  \n",
       "1            7.688047                    1.0  \n",
       "2            6.012447                    1.0  \n",
       "3           15.967481                    1.0  \n",
       "4           14.948980                    0.0  \n",
       "..                ...                    ...  \n",
       "70           4.041153                    1.0  \n",
       "71           4.731106                    1.0  \n",
       "72          29.569410                    0.0  \n",
       "73           9.790760                    1.0  \n",
       "74           7.162368                    0.0  \n",
       "\n",
       "[75 rows x 9 columns]"
      ]
     },
     "execution_count": 15,
     "metadata": {},
     "output_type": "execute_result"
    }
   ],
   "source": [
    "df = pd.read_csv('./data/patient_info.csv')\n",
    "df"
   ]
  },
  {
   "cell_type": "code",
   "execution_count": 18,
   "id": "c9a0402a",
   "metadata": {},
   "outputs": [],
   "source": [
    "#[TODO]\n",
    "#How many patients have Lower Grade Glioma and how many have Glioblastoma multiforme?"
   ]
  },
  {
   "cell_type": "code",
   "execution_count": 19,
   "id": "a8ca9609",
   "metadata": {},
   "outputs": [],
   "source": [
    "#[TODO]\n",
    "#What are the different histologies in both types of tumor?"
   ]
  },
  {
   "cell_type": "code",
   "execution_count": 20,
   "id": "2f704955",
   "metadata": {},
   "outputs": [],
   "source": [
    "#[TODO]\n",
    "#What is the mean survival (months) for different types of tumor?"
   ]
  },
  {
   "cell_type": "code",
   "execution_count": 21,
   "id": "5cbbdd31",
   "metadata": {},
   "outputs": [],
   "source": [
    "#[TODO]\n",
    "#Which tissue source site has the most number of patients?"
   ]
  },
  {
   "cell_type": "code",
   "execution_count": 22,
   "id": "0bb9ec25",
   "metadata": {},
   "outputs": [],
   "source": [
    "#[TODO]\n",
    "#What is the median age at diagnosis?"
   ]
  },
  {
   "cell_type": "code",
   "execution_count": 23,
   "id": "24c3f037",
   "metadata": {},
   "outputs": [],
   "source": [
    "#[TODO]\n",
    "#Does the gender of the patient have an effect on survival?"
   ]
  },
  {
   "cell_type": "markdown",
   "id": "1f0c8522",
   "metadata": {},
   "source": [
    "## 4. Visualising Patient Cases"
   ]
  },
  {
   "cell_type": "code",
   "execution_count": 24,
   "id": "7edaa3a5",
   "metadata": {},
   "outputs": [],
   "source": [
    "#[TODO]\n",
    "#Pick a patient who identifies as female and has a low survival (months) with high grade tumor.\n",
    "#What does the MRI scan look like?\n",
    "#What does the tumor look like?"
   ]
  },
  {
   "cell_type": "code",
   "execution_count": 25,
   "id": "3b7ce7bd",
   "metadata": {},
   "outputs": [],
   "source": [
    "#[TODO]\n",
    "#Out of all patients with low grade glioma, which patient has the largest tumor?\n",
    "#What are the patient characteristics?\n",
    "#What do the MRI Scans and the tumor look like?"
   ]
  },
  {
   "cell_type": "code",
   "execution_count": 27,
   "id": "8417ded9",
   "metadata": {},
   "outputs": [],
   "source": [
    "#[TODO]\n",
    "#Compute the size of the tumor for all patients with Glioblastoma multiforme.\n",
    "#Is the tumor size correlated with any patient characteristics?"
   ]
  }
 ],
 "metadata": {
  "kernelspec": {
   "display_name": "BdsiEnv",
   "language": "python",
   "name": "bdsienv"
  },
  "language_info": {
   "codemirror_mode": {
    "name": "ipython",
    "version": 3
   },
   "file_extension": ".py",
   "mimetype": "text/x-python",
   "name": "python",
   "nbconvert_exporter": "python",
   "pygments_lexer": "ipython3",
   "version": "3.6.9"
  }
 },
 "nbformat": 4,
 "nbformat_minor": 5
}
