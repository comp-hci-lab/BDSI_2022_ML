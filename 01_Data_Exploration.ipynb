{
 "cells": [
  {
   "cell_type": "markdown",
   "id": "ad83e51c",
   "metadata": {},
   "source": [
    "# About"
   ]
  },
  {
   "cell_type": "markdown",
   "id": "fd2b0255",
   "metadata": {},
   "source": [
    "Throughtout this project, you will be working with the Magnetic Resonance Imaging (MRI) data from The Cancer Genome Atlas (TCGA). The data consists of pre-operative multimodal MR imaging sequences (i.e., T1, T1-Gd, T2, T2-FLAIR) along with their whole-tumor segmentation labels composed of edema, enhancing tumor, and non-enhancing tumor. We have combined these labels into a single whole tumor for this project. Each patient is associated with 144 pre-operative MRI scans, which were treated as independent data points for 2D segmentation. These MRI scans were cropped to 144 × 144 pixels and further pre-processed the data by pixel-intensity normalization. In this notebook, we will access the validation dataset and test datasets."
   ]
  },
  {
   "cell_type": "markdown",
   "id": "8001910d",
   "metadata": {},
   "source": [
    "# Learning Objectives"
   ]
  },
  {
   "cell_type": "markdown",
   "id": "4bbe6f58",
   "metadata": {},
   "source": [
    "> In this file, you will learn the following:\n",
    ">    \n",
    "><ol>\n",
    ">  <li>The problem of Brain Tumor (Glioma) Segmentation</li>\n",
    ">  <li>Glioma and Subtypes</li>\n",
    ">  <li>Exploring Patients' MRI and Clinical Data</li>\n",
    ">  <li>Visualizing Examples of MRI Scans and Annotated Tumor Segmentation</li>\n",
    "></ol>"
   ]
  },
  {
   "cell_type": "markdown",
   "id": "38905e00",
   "metadata": {},
   "source": [
    "## 1. The problem of Brain Tumor (Glioma) Segmentation"
   ]
  },
  {
   "cell_type": "code",
   "execution_count": null,
   "id": "ba94ba0e",
   "metadata": {},
   "outputs": [],
   "source": []
  },
  {
   "cell_type": "markdown",
   "id": "c1e2547d",
   "metadata": {},
   "source": [
    "## 2. Glioma and Subtypes"
   ]
  },
  {
   "cell_type": "code",
   "execution_count": null,
   "id": "009a301f",
   "metadata": {},
   "outputs": [],
   "source": []
  },
  {
   "cell_type": "markdown",
   "id": "84ea64a8",
   "metadata": {},
   "source": [
    "## 3. Exploring Patients' MRI and Clinical Data"
   ]
  },
  {
   "cell_type": "code",
   "execution_count": null,
   "id": "567e812f",
   "metadata": {},
   "outputs": [],
   "source": []
  },
  {
   "cell_type": "markdown",
   "id": "1f0c8522",
   "metadata": {},
   "source": [
    "## 4. MRI Scans and Annotated Tumor Segmentation"
   ]
  },
  {
   "cell_type": "code",
   "execution_count": null,
   "id": "7edaa3a5",
   "metadata": {},
   "outputs": [],
   "source": []
  }
 ],
 "metadata": {
  "kernelspec": {
   "display_name": "BdsiEnv",
   "language": "python",
   "name": "bdsienv"
  },
  "language_info": {
   "codemirror_mode": {
    "name": "ipython",
    "version": 3
   },
   "file_extension": ".py",
   "mimetype": "text/x-python",
   "name": "python",
   "nbconvert_exporter": "python",
   "pygments_lexer": "ipython3",
   "version": "3.6.9"
  }
 },
 "nbformat": 4,
 "nbformat_minor": 5
}
