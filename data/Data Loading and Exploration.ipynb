{
 "cells": [
  {
   "cell_type": "markdown",
   "metadata": {},
   "source": [
    "# Objectives:"
   ]
  },
  {
   "cell_type": "markdown",
   "metadata": {},
   "source": [
    "> In this file, you will learn the following:\n",
    ">    \n",
    "><ol>\n",
    ">  <li>How to store and access large heterogenous medical imaging data</li>\n",
    ">  <li>Characteristics and composition of an MRI scan</li>\n",
    ">  <li>Brain as a 3D structure</li>\n",
    ">  <li>The Segmentation Problem</li>\n",
    "></ol>"
   ]
  },
  {
   "cell_type": "markdown",
   "metadata": {},
   "source": [
    "## Import Modules"
   ]
  },
  {
   "cell_type": "code",
   "execution_count": 5,
   "metadata": {},
   "outputs": [],
   "source": [
    "import tensorflow as tf\n",
    "import os\n",
    "import h5py\n",
    "import numpy as np"
   ]
  },
  {
   "cell_type": "markdown",
   "metadata": {},
   "source": [
    "## 1. Data Storage and Access"
   ]
  },
  {
   "cell_type": "markdown",
   "metadata": {},
   "source": [
    "Throughtout this project, you will be working with the [Medical Segmentation Decathlon Challenge, Brain Tumor Dataset](https://arxiv.org/abs/2106.05735). This dataset consists of clinically acquired MRI scans of patients having brain tumor of type glioma. Patients either have glioblastoma (GBM/HGG) or lower-grade glioma (LGG). These MRI scans are multi-parametric, meaning the MRI is composed of four different types of images : T1-weighted (T1), post-Gadolinium (Gd) contrast T1-weighted (T1-Gd), native T2-weighted (T2),\n",
    "and T2 Fluid-Attenuated Inversion Recovery (FLAIR). The data was acquired from 19 different institutions.\n",
    "\n",
    "\n",
    "We have converted the raw MRI scans to an HDF5 file that you can [download from here](https://drive.google.com/file/d/19EYI_R-0ea5LbRdxettsy1uinJAqjfZy/view?usp=sharing). Download the file and store it in the same data folder as this notebook."
   ]
  },
  {
   "cell_type": "code",
   "execution_count": 13,
   "metadata": {
    "scrolled": false
   },
   "outputs": [
    {
     "data": {
      "text/plain": [
       "69696"
      ]
     },
     "execution_count": 13,
     "metadata": {},
     "output_type": "execute_result"
    }
   ],
   "source": [
    "import json\n",
    "f = open('dataset.json')\n",
    "data = json.load(f)\n",
    "data['numTraining']"
   ]
  },
  {
   "cell_type": "code",
   "execution_count": 7,
   "metadata": {},
   "outputs": [
    {
     "name": "stdout",
     "output_type": "stream",
     "text": [
      "Keys: <KeysViewHDF5 ['description', 'imgs_testing', 'imgs_train', 'imgs_validation', 'license', 'modalities', 'msks_testing', 'msks_train', 'msks_validation', 'name', 'reference', 'release', 'tensorImageSize', 'testing_input_files', 'testing_label_files', 'training_input_files', 'training_label_files', 'validation_input_files', 'validation_label_files']>\n"
     ]
    }
   ],
   "source": [
    "data_path = 'Task01_BrainTumour.h5'\n",
    "hdf5_filename = os.path.join(data_path)\n",
    "with h5py.File(hdf5_filename, \"r\") as f:\n",
    "    # List all groups\n",
    "    print(\"Keys: %s\" % f.keys())\n",
    "    a_group_key = list(f.keys())[0]\n",
    "\n",
    "    # Get the data\n",
    "    data = list(f[a_group_key])"
   ]
  },
  {
   "cell_type": "code",
   "execution_count": 8,
   "metadata": {},
   "outputs": [],
   "source": [
    "df = h5py.File(hdf5_filename, \"r\")\n",
    "\n",
    "X_train = df[\"imgs_train\"]\n",
    "y_train = df[\"msks_train\"]\n",
    "\n",
    "X_test = df[\"imgs_testing\"]\n",
    "y_test = df[\"msks_testing\"]\n",
    "\n",
    "X_valid = df[\"imgs_validation\"]\n",
    "y_valid = df[\"msks_validation\"]"
   ]
  },
  {
   "cell_type": "code",
   "execution_count": 15,
   "metadata": {},
   "outputs": [
    {
     "data": {
      "text/plain": [
       "120.79338842975207"
      ]
     },
     "execution_count": 15,
     "metadata": {},
     "output_type": "execute_result"
    }
   ],
   "source": [
    "X_train.shape[0]/data['numTraining'] "
   ]
  },
  {
   "cell_type": "code",
   "execution_count": null,
   "metadata": {},
   "outputs": [],
   "source": [
    "# np.save('X_train.npy',X_train)\n",
    "# np.save('y_train.npy',y_train)\n",
    "\n",
    "# np.save('X_test.npy',X_test)\n",
    "# np.save('y_test.npy',y_test)\n",
    "\n",
    "# np.save('X_valid.npy',X_valid)\n",
    "# np.save('y_valid.npy',y_valid)"
   ]
  },
  {
   "cell_type": "markdown",
   "metadata": {},
   "source": [
    "## 2. Characteristics and composition of an MRI scan"
   ]
  },
  {
   "cell_type": "code",
   "execution_count": null,
   "metadata": {},
   "outputs": [],
   "source": []
  },
  {
   "cell_type": "code",
   "execution_count": null,
   "metadata": {},
   "outputs": [],
   "source": []
  },
  {
   "cell_type": "markdown",
   "metadata": {},
   "source": [
    "## 3. Brain as a 3D Structure"
   ]
  },
  {
   "cell_type": "code",
   "execution_count": null,
   "metadata": {},
   "outputs": [],
   "source": []
  },
  {
   "cell_type": "code",
   "execution_count": null,
   "metadata": {},
   "outputs": [],
   "source": []
  },
  {
   "cell_type": "markdown",
   "metadata": {},
   "source": [
    "## 4. The Segmentation Problem"
   ]
  },
  {
   "cell_type": "code",
   "execution_count": null,
   "metadata": {},
   "outputs": [],
   "source": []
  },
  {
   "cell_type": "code",
   "execution_count": null,
   "metadata": {},
   "outputs": [],
   "source": []
  },
  {
   "cell_type": "markdown",
   "metadata": {},
   "source": [
    "---\n",
    "***"
   ]
  },
  {
   "cell_type": "markdown",
   "metadata": {},
   "source": [
    "## Additional Resources:"
   ]
  },
  {
   "cell_type": "markdown",
   "metadata": {},
   "source": [
    "[1] B. H. Menze, A. Jakab, S. Bauer, J. Kalpathy-Cramer, K. Farahani, J. Kirby, et al. \"The Multimodal Brain Tumor Image Segmentation Benchmark (BRATS)\", IEEE Transactions on Medical Imaging 34(10), 1993-2024 (2015) DOI: 10.1109/TMI.2014.2377694\n",
    "\n",
    "[2] S. Bakas, H. Akbari, A. Sotiras, M. Bilello, M. Rozycki, J.S. Kirby, et al., \"Advancing The Cancer Genome Atlas glioma MRI collections with expert segmentation labels and radiomic features\", Nature Scientific Data, 4:170117 (2017) DOI: 10.1038/sdata.2017.117\n",
    "\n",
    "[3] S. Bakas, M. Reyes, A. Jakab, S. Bauer, M. Rempfler, A. Crimi, et al., \"Identifying the Best Machine Learning Algorithms for Brain Tumor Segmentation, Progression Assessment, and Overall Survival Prediction in the BRATS Challenge\", arXiv preprint arXiv:1811.02629 (2018)\n",
    "\n",
    "[4] Dougherty MT, Folk MJ, Zadok E, et al. Unifying Biological Image Formats with HDF5. Commun ACM. 2009;52(10):42-47. [doi:10.1145/1562764.1562781](https://www.ncbi.nlm.nih.gov/pmc/articles/PMC3016045/)"
   ]
  },
  {
   "cell_type": "code",
   "execution_count": null,
   "metadata": {},
   "outputs": [],
   "source": []
  }
 ],
 "metadata": {
  "kernelspec": {
   "display_name": "BdsiEnv",
   "language": "python",
   "name": "bdsienv"
  },
  "language_info": {
   "codemirror_mode": {
    "name": "ipython",
    "version": 3
   },
   "file_extension": ".py",
   "mimetype": "text/x-python",
   "name": "python",
   "nbconvert_exporter": "python",
   "pygments_lexer": "ipython3",
   "version": "3.6.9"
  }
 },
 "nbformat": 4,
 "nbformat_minor": 2
}
