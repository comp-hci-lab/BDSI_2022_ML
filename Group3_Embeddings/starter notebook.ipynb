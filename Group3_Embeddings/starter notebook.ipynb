{
 "cells": [
  {
   "cell_type": "markdown",
   "id": "61eba108",
   "metadata": {},
   "source": [
    "### Import"
   ]
  },
  {
   "cell_type": "code",
   "execution_count": 3,
   "id": "cef86d36",
   "metadata": {
    "ExecuteTime": {
     "end_time": "2022-07-06T13:55:39.489761Z",
     "start_time": "2022-07-06T13:55:39.486077Z"
    }
   },
   "outputs": [],
   "source": [
    "#First, make sure tensorboard is downloaded in your virtual environment. Then import libraries:"
   ]
  },
  {
   "cell_type": "code",
   "execution_count": 2,
   "id": "f92254c4",
   "metadata": {
    "ExecuteTime": {
     "end_time": "2022-07-06T13:55:28.821513Z",
     "start_time": "2022-07-06T13:55:27.298213Z"
    }
   },
   "outputs": [],
   "source": [
    "from tensorboard.plugins import projector\n",
    "import pandas as pd\n",
    "import numpy as np"
   ]
  },
  {
   "cell_type": "markdown",
   "id": "b369de86",
   "metadata": {},
   "source": [
    "### Embeddings with Tensorflow"
   ]
  },
  {
   "cell_type": "markdown",
   "id": "d3e62e2c",
   "metadata": {},
   "source": [
    "https://www.tensorflow.org/tensorboard/tensorboard_projector_plugin"
   ]
  },
  {
   "cell_type": "markdown",
   "id": "37b9e207",
   "metadata": {},
   "source": [
    "### Additional Resources"
   ]
  },
  {
   "cell_type": "markdown",
   "id": "14e1ac9a",
   "metadata": {},
   "source": [
    "GitHub Repository for Embeddings:\n",
    "<br>\n",
    "Embedding Projector:http://projector.tensorflow.org/\n",
    "<br>\n",
    "Video: https://www.youtube.com/watch?v=wvsE8jm1GzE\n",
    "<br>\n",
    "Link to paper: https://arxiv.org/abs/1611.05469"
   ]
  }
 ],
 "metadata": {
  "kernelspec": {
   "display_name": "BdsiEnv",
   "language": "python",
   "name": "bdsienv"
  },
  "language_info": {
   "codemirror_mode": {
    "name": "ipython",
    "version": 3
   },
   "file_extension": ".py",
   "mimetype": "text/x-python",
   "name": "python",
   "nbconvert_exporter": "python",
   "pygments_lexer": "ipython3",
   "version": "3.8.8"
  }
 },
 "nbformat": 4,
 "nbformat_minor": 5
}
