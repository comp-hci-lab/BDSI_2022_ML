{
 "cells": [
  {
   "cell_type": "code",
   "execution_count": 1,
   "id": "a8e4dade",
   "metadata": {},
   "outputs": [],
   "source": [
    "import numpy as np\n",
    "import os"
   ]
  },
  {
   "cell_type": "code",
   "execution_count": null,
   "id": "e234ce8c",
   "metadata": {},
   "outputs": [],
   "source": [
    "path_of_the_directory= '/scratch/bdsi_root/bdsi1/ntranbac/'  # change path accordingly\n",
    "folders = ('val_labels/', 'train_labels', 'test_labels/')\n",
    "\n",
    "images = []  # at the end this will be numpy array with all images\n",
    "labels = []  # list of labels\n",
    "\n",
    "for folder in folders:\n",
    "    for filename in os.listdir(path_of_the_directory + folder):\n",
    "        # f = paths to images\n",
    "        f = os.path.join(path_of_the_directory + folder, filename)\n",
    "        \n",
    "        if os.path.isfile(f):\n",
    "            patient_image = np.load(f).flatten().astype(float)\n",
    "            images.append(patient_image)\n",
    "            labels.append(filename[-4])\n",
    "            \n",
    "# saving data:\n",
    "np.save('data.npy', images)\n",
    "with open('labels.txt', 'a') as f:\n",
    "    f.writelines('\\n'.join(labels))"
   ]
  },
  {
   "cell_type": "code",
   "execution_count": 12,
   "id": "21af4bea",
   "metadata": {},
   "outputs": [
    {
     "name": "stdout",
     "output_type": "stream",
     "text": [
      "243\n"
     ]
    }
   ],
   "source": [
    "print(len(labels))"
   ]
  },
  {
   "cell_type": "code",
   "execution_count": null,
   "id": "beecaa27",
   "metadata": {},
   "outputs": [],
   "source": []
  }
 ],
 "metadata": {
  "kernelspec": {
   "display_name": "BdsiEnv",
   "language": "python",
   "name": "bdsienv"
  },
  "language_info": {
   "codemirror_mode": {
    "name": "ipython",
    "version": 3
   },
   "file_extension": ".py",
   "mimetype": "text/x-python",
   "name": "python",
   "nbconvert_exporter": "python",
   "pygments_lexer": "ipython3",
   "version": "3.6.8"
  }
 },
 "nbformat": 4,
 "nbformat_minor": 5
}
