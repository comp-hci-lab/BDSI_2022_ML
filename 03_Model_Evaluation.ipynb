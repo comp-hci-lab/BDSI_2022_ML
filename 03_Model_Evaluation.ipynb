{
 "cells": [
  {
   "cell_type": "markdown",
   "id": "ad83e51c",
   "metadata": {},
   "source": [
    "# About"
   ]
  },
  {
   "cell_type": "markdown",
   "id": "fd2b0255",
   "metadata": {},
   "source": [
    "While model training curves can give an idea of how well trained the model is, it is important to evaluate the trained model on data that it has not seen before. In the previous notebook, you explored the trained model, generated predictions on the test dataset and visualized some of these predictions. However, visually examining model performance on a few cases is not enough to gain an understanding of the overall model performance. In this notebook, you will first learn how to rigorously test model performance at an aggregate-level. Next, you will examine performance when the data is stratified - based on tumor grades, patient demographics and hospital sites."
   ]
  },
  {
   "cell_type": "markdown",
   "id": "8001910d",
   "metadata": {},
   "source": [
    "# Learning Objectives"
   ]
  },
  {
   "cell_type": "markdown",
   "id": "4bbe6f58",
   "metadata": {},
   "source": [
    "> In this file, you will learn the following:\n",
    ">    \n",
    "><ol>\n",
    ">  <li>Evaluating performance with Segmentation Metrics</li>\n",
    ">  <li>Model performance on different grades of tumor</li>\n",
    ">  <li>Model performance on different patient populations</li>\n",
    ">  <li>Model performance on MRI scans from different hospitals</li>\n",
    "></ol>"
   ]
  },
  {
   "cell_type": "markdown",
   "id": "38905e00",
   "metadata": {},
   "source": [
    "## 1. Evaluating performance with Segmentation Metrics"
   ]
  },
  {
   "cell_type": "markdown",
   "id": "baf1b610",
   "metadata": {},
   "source": [
    "There exist a plethora of metrics to evaluate the performance of a medical image segmentation algorithm. Each metric focuses on a specific aspect of the algorithm's performance, and is thus limited in capability to describe the algorithm's performance by itself. Several metrics are necessary to describe comprehensive characteristics of segmentation performance."
   ]
  },
  {
   "cell_type": "code",
   "execution_count": null,
   "id": "ba94ba0e",
   "metadata": {},
   "outputs": [],
   "source": []
  },
  {
   "cell_type": "markdown",
   "id": "c1e2547d",
   "metadata": {},
   "source": [
    "## 2. Model performance on different grades of tumor"
   ]
  },
  {
   "cell_type": "code",
   "execution_count": null,
   "id": "009a301f",
   "metadata": {},
   "outputs": [],
   "source": []
  },
  {
   "cell_type": "markdown",
   "id": "84ea64a8",
   "metadata": {},
   "source": [
    "## 3. Model performance on different patient populations"
   ]
  },
  {
   "cell_type": "code",
   "execution_count": null,
   "id": "567e812f",
   "metadata": {},
   "outputs": [],
   "source": []
  },
  {
   "cell_type": "markdown",
   "id": "1f0c8522",
   "metadata": {},
   "source": [
    "## 4. Model performance on MRI scans from different hospitals"
   ]
  },
  {
   "cell_type": "code",
   "execution_count": null,
   "id": "7edaa3a5",
   "metadata": {},
   "outputs": [],
   "source": []
  }
 ],
 "metadata": {
  "kernelspec": {
   "display_name": "BdsiEnv",
   "language": "python",
   "name": "bdsienv"
  },
  "language_info": {
   "codemirror_mode": {
    "name": "ipython",
    "version": 3
   },
   "file_extension": ".py",
   "mimetype": "text/x-python",
   "name": "python",
   "nbconvert_exporter": "python",
   "pygments_lexer": "ipython3",
   "version": "3.6.9"
  }
 },
 "nbformat": 4,
 "nbformat_minor": 5
}
