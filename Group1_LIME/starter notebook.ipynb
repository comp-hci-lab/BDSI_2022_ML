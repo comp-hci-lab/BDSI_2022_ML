{
 "cells": [
  {
   "cell_type": "markdown",
   "id": "538c8a8f",
   "metadata": {},
   "source": [
    "### Import"
   ]
  },
  {
   "cell_type": "code",
   "execution_count": 1,
   "id": "45f972e2",
   "metadata": {
    "ExecuteTime": {
     "end_time": "2022-07-06T13:18:22.157260Z",
     "start_time": "2022-07-06T13:18:22.153301Z"
    }
   },
   "outputs": [],
   "source": [
    "#First, make sure lime is downloaded in your virtual environment. Then import libraries:"
   ]
  },
  {
   "cell_type": "code",
   "execution_count": 2,
   "id": "fe97b801",
   "metadata": {
    "ExecuteTime": {
     "end_time": "2022-07-06T13:18:46.659098Z",
     "start_time": "2022-07-06T13:18:43.983486Z"
    }
   },
   "outputs": [],
   "source": [
    "import lime\n",
    "import lime.lime_tabular\n",
    "import pandas as pd\n",
    "import numpy as np"
   ]
  },
  {
   "cell_type": "markdown",
   "id": "8bcc7d4d",
   "metadata": {},
   "source": [
    "### LIME for Interpretability"
   ]
  },
  {
   "cell_type": "markdown",
   "id": "a961a6b9",
   "metadata": {},
   "source": [
    "Here is an example on how to use LIME for image models: https://github.com/marcotcr/lime/blob/master/doc/notebooks/Tutorial%20-%20Image%20Classification%20Keras.ipynb"
   ]
  },
  {
   "cell_type": "markdown",
   "id": "4866c099",
   "metadata": {},
   "source": [
    "### Additional Resources:"
   ]
  },
  {
   "cell_type": "markdown",
   "id": "4139c0cc",
   "metadata": {},
   "source": [
    "GitHub repository for LIME: https://github.com/marcotcr/lime\n",
    "<br>\n",
    "KDD 2016 Video: https://www.youtube.com/watch?v=KP7-JtFMLo4\n",
    "<br>\n",
    "Link to paper: https://dl-acm-org.proxy.lib.umich.edu/doi/10.1145/2939672.2939778"
   ]
  }
 ],
 "metadata": {
  "kernelspec": {
   "display_name": "BdsiEnv",
   "language": "python",
   "name": "bdsienv"
  },
  "language_info": {
   "codemirror_mode": {
    "name": "ipython",
    "version": 3
   },
   "file_extension": ".py",
   "mimetype": "text/x-python",
   "name": "python",
   "nbconvert_exporter": "python",
   "pygments_lexer": "ipython3",
   "version": "3.8.8"
  }
 },
 "nbformat": 4,
 "nbformat_minor": 5
}
