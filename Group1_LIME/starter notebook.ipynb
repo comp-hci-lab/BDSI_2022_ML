{
 "cells": [
  {
   "cell_type": "markdown",
   "id": "538c8a8f",
   "metadata": {},
   "source": [
    "## Import"
   ]
  },
  {
   "cell_type": "code",
   "execution_count": null,
   "id": "45f972e2",
   "metadata": {},
   "outputs": [],
   "source": [
    "#First, download lime in your virtual environment. Then import libraries:"
   ]
  },
  {
   "cell_type": "code",
   "execution_count": null,
   "id": "fe97b801",
   "metadata": {},
   "outputs": [],
   "source": [
    "import lime\n",
    "import lime.lime_tabular\n",
    "import pandas as pd\n",
    "import numpy as np"
   ]
  }
 ],
 "metadata": {
  "kernelspec": {
   "display_name": "BdsiEnv",
   "language": "python",
   "name": "bdsienv"
  },
  "language_info": {
   "codemirror_mode": {
    "name": "ipython",
    "version": 3
   },
   "file_extension": ".py",
   "mimetype": "text/x-python",
   "name": "python",
   "nbconvert_exporter": "python",
   "pygments_lexer": "ipython3",
   "version": "3.8.8"
  }
 },
 "nbformat": 4,
 "nbformat_minor": 5
}
