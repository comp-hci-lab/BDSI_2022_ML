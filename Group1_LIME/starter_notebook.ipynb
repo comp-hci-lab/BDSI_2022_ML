{
 "cells": [
  {
   "cell_type": "markdown",
   "id": "538c8a8f",
   "metadata": {},
   "source": [
    "### Import"
   ]
  },
  {
   "cell_type": "code",
   "execution_count": 1,
   "id": "45f972e2",
   "metadata": {
    "ExecuteTime": {
     "end_time": "2022-07-06T13:18:22.157260Z",
     "start_time": "2022-07-06T13:18:22.153301Z"
    }
   },
   "outputs": [],
   "source": [
    "#First, make sure lime is downloaded in your virtual environment. Then import libraries:"
   ]
  },
  {
   "cell_type": "code",
   "execution_count": 2,
   "id": "fe97b801",
   "metadata": {
    "ExecuteTime": {
     "end_time": "2022-07-06T13:18:46.659098Z",
     "start_time": "2022-07-06T13:18:43.983486Z"
    }
   },
   "outputs": [
    {
     "name": "stdout",
     "output_type": "stream",
     "text": [
      "2.6.2\n",
      "Listing all GPU resources:\n",
      "[PhysicalDevice(name='/physical_device:GPU:0', device_type='GPU')]\n",
      "\n",
      "Notebook run using keras: 2.6.0\n"
     ]
    }
   ],
   "source": [
    "# import statements (potentially more than necessary, but better to be prepared!)\n",
    "import lime\n",
    "import lime.lime_tabular\n",
    "import pandas as pd\n",
    "import numpy as np\n",
    "import os\n",
    "import keras\n",
    "from keras.applications import inception_v3 as inc_net\n",
    "from keras.preprocessing import image\n",
    "from keras.applications.imagenet_utils import decode_predictions\n",
    "from skimage.io import imread\n",
    "import matplotlib.pyplot as plt\n",
    "%matplotlib inline\n",
    "import numpy as np\n",
    "from utils import *\n",
    "print('Notebook run using keras:', keras.__version__)"
   ]
  },
  {
   "cell_type": "code",
   "execution_count": 3,
   "id": "dd5ffc1f",
   "metadata": {
    "scrolled": true
   },
   "outputs": [],
   "source": [
    "# load in U-NET model and predict tumor locations"
   ]
  },
  {
   "cell_type": "code",
   "execution_count": 4,
   "id": "b9d2ffe9",
   "metadata": {},
   "outputs": [
    {
     "name": "stdout",
     "output_type": "stream",
     "text": [
      "<class 'pandas.core.frame.DataFrame'>\n",
      "Int64Index: 242 entries, 1 to 1114\n",
      "Data columns (total 9 columns):\n",
      " #   Column                    Non-Null Count  Dtype  \n",
      "---  ------                    --------------  -----  \n",
      " 0   Case                      242 non-null    object \n",
      " 1   Tissue source site        242 non-null    object \n",
      " 2   Study                     242 non-null    object \n",
      " 3   Histology                 241 non-null    object \n",
      " 4   Grade                     241 non-null    object \n",
      " 5   Age (years at diagnosis)  241 non-null    float64\n",
      " 6   Gender                    241 non-null    object \n",
      " 7   Survival (months)         241 non-null    float64\n",
      " 8   Vital status (1=dead)     241 non-null    float64\n",
      "dtypes: float64(3), object(6)\n",
      "memory usage: 18.9+ KB\n"
     ]
    }
   ],
   "source": [
    "# Loading patient data\n",
    "df = pd.read_csv('../data/patient_data.csv',index_col=0)\n",
    "df.info()"
   ]
  },
  {
   "cell_type": "code",
   "execution_count": null,
   "id": "f2e6de7f",
   "metadata": {},
   "outputs": [],
   "source": [
    "# Load images: Training, Test, or Validation?\n"
   ]
  },
  {
   "cell_type": "code",
   "execution_count": null,
   "id": "693bd083",
   "metadata": {},
   "outputs": [],
   "source": [
    "# Implementing LIME Guidelines"
   ]
  },
  {
   "cell_type": "markdown",
   "id": "8bcc7d4d",
   "metadata": {},
   "source": [
    "### LIME for Interpretability"
   ]
  },
  {
   "cell_type": "markdown",
   "id": "a961a6b9",
   "metadata": {},
   "source": [
    "Here is an example on how to use LIME for image models: https://github.com/marcotcr/lime/blob/master/doc/notebooks/Tutorial%20-%20Image%20Classification%20Keras.ipynb"
   ]
  },
  {
   "cell_type": "markdown",
   "id": "4866c099",
   "metadata": {},
   "source": [
    "### Additional Resources:"
   ]
  },
  {
   "cell_type": "markdown",
   "id": "4139c0cc",
   "metadata": {},
   "source": [
    "GitHub repository for LIME: https://github.com/marcotcr/lime\n",
    "<br>\n",
    "KDD 2016 Video: https://www.youtube.com/watch?v=KP7-JtFMLo4\n",
    "<br>\n",
    "Link to paper: https://dl-acm-org.proxy.lib.umich.edu/doi/10.1145/2939672.2939778"
   ]
  }
 ],
 "metadata": {
  "kernelspec": {
   "display_name": "BdsiEnv",
   "language": "python",
   "name": "bdsienv"
  },
  "language_info": {
   "codemirror_mode": {
    "name": "ipython",
    "version": 3
   },
   "file_extension": ".py",
   "mimetype": "text/x-python",
   "name": "python",
   "nbconvert_exporter": "python",
   "pygments_lexer": "ipython3",
   "version": "3.6.8"
  }
 },
 "nbformat": 4,
 "nbformat_minor": 5
}
