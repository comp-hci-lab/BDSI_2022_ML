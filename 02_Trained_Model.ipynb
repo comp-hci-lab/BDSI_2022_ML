{
 "cells": [
  {
   "cell_type": "markdown",
   "id": "ad83e51c",
   "metadata": {},
   "source": [
    "# About"
   ]
  },
  {
   "cell_type": "markdown",
   "id": "fd2b0255",
   "metadata": {},
   "source": [
    "In the previous notebook, you learnt about the segmentation problem and explored the data. In this notebook, you will learn how Deep Learning, a form of Machine Learning, can be used to predict the tumor regions on the MRI scans similar to radiologists. To get you started, we have trained the state-of-the-art U-Net architecture to develop a model for segmenting tumor."
   ]
  },
  {
   "cell_type": "markdown",
   "id": "8001910d",
   "metadata": {},
   "source": [
    "# Learning Objectives"
   ]
  },
  {
   "cell_type": "markdown",
   "id": "4bbe6f58",
   "metadata": {},
   "source": [
    "> In this file, you will learn the following:\n",
    ">    \n",
    "><ol>\n",
    ">  <li>The U-Net Architecture</li>\n",
    ">  <li>History of the Pre-trained Model</li>\n",
    ">  <li>Loading in Model Weights</li>\n",
    ">  <li>Predicting on Test Dataset</li>\n",
    "></ol>"
   ]
  },
  {
   "cell_type": "markdown",
   "id": "38905e00",
   "metadata": {},
   "source": [
    "## 1. The U-Net Architecture"
   ]
  },
  {
   "cell_type": "markdown",
   "id": "35ad19f6",
   "metadata": {},
   "source": [
    "The U-Net architecture consists of an encoder, decoder, and skip connections. Each module of the encoder consists of 2D Convolution layers, followed by Batch Normalization and MaxPooling layers. Four such modules make up the encoder. The decoder consists of four modules of Conv2DTranspose layers followed by Concatenate layers. The network performs slice-wise (2D) segmentation with multi-modal MRI scans provided as the input."
   ]
  },
  {
   "cell_type": "code",
   "execution_count": null,
   "id": "ba94ba0e",
   "metadata": {},
   "outputs": [],
   "source": []
  },
  {
   "cell_type": "markdown",
   "id": "c1e2547d",
   "metadata": {},
   "source": [
    "## 2. History of the Pre-trained Model"
   ]
  },
  {
   "cell_type": "markdown",
   "id": "77207ff1",
   "metadata": {},
   "source": [
    "Models were trained with Dice Loss function for 100 epochs on 8 GPUs. Adam optimizer (Kingma, 2015) was used with a learning rate of 1 × 10−4 and a batch size of 128. Data augmentation was used while training each of the models to improve generalization. This consisted of random rotations (0–25° degrees range), random zooming (value = 0.2, zooms image by 80–120% range), width shift (value = 0.2, horizontal translation of images by 0.2 percent), height shift (value = 0.2, vertical translation of images by 0.2 percent), shear (value = 0.2, clips the image in counter-clockwise direction) and random horizontal flips."
   ]
  },
  {
   "cell_type": "code",
   "execution_count": null,
   "id": "009a301f",
   "metadata": {},
   "outputs": [],
   "source": []
  },
  {
   "cell_type": "markdown",
   "id": "84ea64a8",
   "metadata": {},
   "source": [
    "## 3. Loading in Model Weights"
   ]
  },
  {
   "cell_type": "code",
   "execution_count": null,
   "id": "567e812f",
   "metadata": {},
   "outputs": [],
   "source": []
  },
  {
   "cell_type": "markdown",
   "id": "1f0c8522",
   "metadata": {},
   "source": [
    "## 4. Predicting on Test Dataset"
   ]
  },
  {
   "cell_type": "code",
   "execution_count": null,
   "id": "7edaa3a5",
   "metadata": {},
   "outputs": [],
   "source": []
  }
 ],
 "metadata": {
  "kernelspec": {
   "display_name": "BdsiEnv",
   "language": "python",
   "name": "bdsienv"
  },
  "language_info": {
   "codemirror_mode": {
    "name": "ipython",
    "version": 3
   },
   "file_extension": ".py",
   "mimetype": "text/x-python",
   "name": "python",
   "nbconvert_exporter": "python",
   "pygments_lexer": "ipython3",
   "version": "3.6.9"
  }
 },
 "nbformat": 4,
 "nbformat_minor": 5
}
