{
 "cells": [
  {
   "cell_type": "code",
   "execution_count": 1,
   "metadata": {},
   "outputs": [],
   "source": [
    "import tensorflow as tf\n",
    "import os\n",
    "import h5py\n",
    "import numpy as np\n",
    "# import tensorflow_io as tfio"
   ]
  },
  {
   "cell_type": "code",
   "execution_count": 5,
   "metadata": {},
   "outputs": [],
   "source": [
    "data_path = 'Task01_BrainTumour.h5'\n",
    "hdf5_filename = os.path.join(data_path)\n",
    "\n",
    "df = h5py.File(hdf5_filename, \"r\")\n",
    "imgs_training = df[\"imgs_train\"]\n",
    "msks_training = df[\"msks_train\"]\n",
    "imgs_testing = df[\"imgs_test\"]\n",
    "msks_testing = df[\"msks_test\"]"
   ]
  },
  {
   "cell_type": "code",
   "execution_count": null,
   "metadata": {},
   "outputs": [],
   "source": [
    "np.save('imgs_train.npy',np.asarray(imgs_training))\n",
    "np.save('msks_train.npy',np.asarray(msks_training))\n",
    "np.save('imgs_test.npy',np.asarray(imgs_testing))\n",
    "np.save('msks_test.npy',np.asarray(msks_testing))"
   ]
  }
 ],
 "metadata": {
  "kernelspec": {
   "display_name": "gpu-env",
   "language": "python",
   "name": "gpu-env"
  },
  "language_info": {
   "codemirror_mode": {
    "name": "ipython",
    "version": 3
   },
   "file_extension": ".py",
   "mimetype": "text/x-python",
   "name": "python",
   "nbconvert_exporter": "python",
   "pygments_lexer": "ipython3",
   "version": "3.8.3"
  }
 },
 "nbformat": 4,
 "nbformat_minor": 2
}
