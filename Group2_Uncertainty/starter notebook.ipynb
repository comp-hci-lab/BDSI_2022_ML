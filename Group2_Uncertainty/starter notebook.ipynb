{
 "cells": [
  {
   "cell_type": "markdown",
   "id": "0dc98343",
   "metadata": {},
   "source": [
    "### Import"
   ]
  },
  {
   "cell_type": "code",
   "execution_count": null,
   "id": "4cafaa74",
   "metadata": {
    "ExecuteTime": {
     "end_time": "2022-07-06T18:18:39.136154Z",
     "start_time": "2022-07-06T18:18:39.131500Z"
    }
   },
   "outputs": [],
   "source": [
    "#First, make sure tensorflow libraries are downloaded in your virtual environment. Then import libraries:"
   ]
  },
  {
   "cell_type": "code",
   "execution_count": null,
   "id": "dfe754c2",
   "metadata": {
    "ExecuteTime": {
     "end_time": "2022-07-06T18:18:39.589217Z",
     "start_time": "2022-07-06T18:18:39.472918Z"
    }
   },
   "outputs": [],
   "source": [
    "import tensorflow as tf\n",
    "import tensorflow_io as tfio\n",
    "import tensorflow_probability as tfp"
   ]
  },
  {
   "cell_type": "markdown",
   "id": "ec13dc42",
   "metadata": {},
   "source": [
    "### Uncertainty for Medical Image Segmentation"
   ]
  },
  {
   "cell_type": "markdown",
   "id": "8cc5ae20",
   "metadata": {},
   "source": [
    "Analyzing the Quality and Challenges of Uncertainty Estimations for Brain Tumor Segmentation : https://www.ncbi.nlm.nih.gov/pmc/articles/PMC7156850/"
   ]
  },
  {
   "cell_type": "markdown",
   "id": "63db2e78",
   "metadata": {},
   "source": [
    "### Additional Resources"
   ]
  },
  {
   "cell_type": "code",
   "execution_count": 1,
   "id": "80d9924b",
   "metadata": {
    "ExecuteTime": {
     "end_time": "2022-07-06T18:20:47.971386Z",
     "start_time": "2022-07-06T18:20:47.966469Z"
    }
   },
   "outputs": [],
   "source": [
    "## Will send the PDF of the work separately on slack."
   ]
  }
 ],
 "metadata": {
  "kernelspec": {
   "display_name": "venv",
   "language": "python",
   "name": "venv"
  },
  "language_info": {
   "codemirror_mode": {
    "name": "ipython",
    "version": 3
   },
   "file_extension": ".py",
   "mimetype": "text/x-python",
   "name": "python",
   "nbconvert_exporter": "python",
   "pygments_lexer": "ipython3",
   "version": "3.7.7"
  }
 },
 "nbformat": 4,
 "nbformat_minor": 5
}
