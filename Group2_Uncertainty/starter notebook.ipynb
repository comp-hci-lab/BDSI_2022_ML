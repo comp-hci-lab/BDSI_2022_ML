{
 "cells": [
  {
   "cell_type": "markdown",
   "id": "fa3b511c",
   "metadata": {},
   "source": [
    "### Import"
   ]
  },
  {
   "cell_type": "code",
   "execution_count": null,
   "id": "828afd85",
   "metadata": {
    "ExecuteTime": {
     "end_time": "2022-07-06T18:18:39.136154Z",
     "start_time": "2022-07-06T18:18:39.131500Z"
    }
   },
   "outputs": [],
   "source": [
    "#First, make sure tensorflow libraries are downloaded in your virtual environment. Then import libraries:"
   ]
  },
  {
   "cell_type": "code",
   "execution_count": null,
   "id": "2153235b",
   "metadata": {
    "ExecuteTime": {
     "end_time": "2022-07-06T18:18:39.589217Z",
     "start_time": "2022-07-06T18:18:39.472918Z"
    }
   },
   "outputs": [],
   "source": [
    "import tensorflow as tf\n",
    "import tensorflow_io as tfio\n",
    "import tensorflow_probability as tfp"
   ]
  },
  {
   "cell_type": "markdown",
   "id": "335d513e",
   "metadata": {},
   "source": [
    "### Uncertainty for Medical Image Segmentation"
   ]
  },
  {
   "cell_type": "code",
   "execution_count": null,
   "id": "3def9a1a",
   "metadata": {},
   "outputs": [],
   "source": []
  },
  {
   "cell_type": "markdown",
   "id": "86ca725c",
   "metadata": {},
   "source": [
    "### Additional Resources"
   ]
  },
  {
   "cell_type": "code",
   "execution_count": null,
   "id": "bf7d0f8f",
   "metadata": {},
   "outputs": [],
   "source": []
  }
 ],
 "metadata": {
  "kernelspec": {
   "display_name": "venv",
   "language": "python",
   "name": "venv"
  },
  "language_info": {
   "codemirror_mode": {
    "name": "ipython",
    "version": 3
   },
   "file_extension": ".py",
   "mimetype": "text/x-python",
   "name": "python",
   "nbconvert_exporter": "python",
   "pygments_lexer": "ipython3",
   "version": "3.7.7"
  }
 },
 "nbformat": 4,
 "nbformat_minor": 5
}
